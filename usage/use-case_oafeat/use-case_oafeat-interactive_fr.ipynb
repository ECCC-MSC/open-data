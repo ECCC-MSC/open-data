{
 "cells": [
  {
   "cell_type": "markdown",
   "metadata": {},
   "source": [
    "[In English](../use-case_oafeat-interactive_en/)\n",
    "\n",
    "![ECCC logo](https://eccc-msc.github.io/open-data/img_eccc-logo.png)  \n",
    "\n",
    "[TdM](../../../readme_fr/) > [Aperçu de l'utilisation](../../readme_fr/) > Requêtes OGC API - Features avec Python (version interactive)\n",
    "\n",
    "# Cas d'utilisation: Récupération et affichage de données hydrométriques\n",
    "\n",
    "## Introduction\n",
    "\n",
    "Les données hydrométriques du Service météorologique du Canada (SMC) d'Environnement et Changement climatique Canada (ECCC) peuvent être facilement accédées via [GeoMet-OGC-API](https://api.weather.gc.ca/). Les services web [OGC API - Features](https://eccc-msc.github.io/open-data/msc-geomet/web-services_fr/#ogc-api-features) disponibles dans GeoMet-OGC-API permettent d'effectuer des requêtes de données géospatiales vectorielles et de récupérer ces données en format GeoJSON. Les fichiers GeoJSON peuvent ensuite être utilisés directement pour réaliser des analyses et afficher les données sur des cartes ou peuvent être soumis à des étapes supplémentaires de traitement de données. Ce cas d'utilisation démontre comment: \n",
    "* Effectuer des requêtes et récupérer des données géospatiales vectorielles disponibles dans GeoMet-OGC-API à l'aide de [Python](https://www.python.org/)\n",
    "* Afficher des données de séries temporelles en format graphique et tabulaire\n",
    "* Créer une carte interactive présentant les données géospatiales récupérées\n",
    "\n",
    "Ce cas d'utilisation est disponible en deux versions. Cette version-ci a été concue spécifiquement pour Jupyter Notebook et tire avantage du niveau supérieur d'interactivité offert par cette application. Elle comprend entre autres des menus déroulants pour sélectionner la valeur de certaines variables, un graphique interactif comportant une plus grande variété de fonctions et une carte interactive basée sur Leaflet. Comme certaines bibliothèques de programmation utilisées dans cette version telles que ipywidgets ne sont pas conçues pour être utilisées hors de Jupyter Notebook, [une autre version de ce cas d'utilisation](../use-case_oafeat-script_fr/) présente un script qui est adapté pour être exécuté directement dans un terminal ou dans un environnement de développement intégré.\n",
    "\n",
    "Pour exécuter l'entièreté de ce carnet, cliquez sur le symbole ⏩️ ou sélectionnez l'option *Cell* -> *Run All* dans la barre de menu.\n",
    "\n",
    "[![badge](https://img.shields.io/badge/Version%20interactive-binder-F5A252.svg?logo=data:image/png;base64,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)](https://mybinder.org/v2/gh/ECCC-MSC/open-data.git/master?labpath=docs%2Fusage%2Fuse-case_oafeat%2Fuse-case_oafeat-script_fr.ipynb)\n",
    "\n",
    "## Création d'un outil pour suivre l'évolution des niveaux d'eau \n",
    "\n",
    "Cathy dirige une compagnie d'excursions en bateau et de sports nautiques à Chilliwack en Colombie-Britannique. Elle aimerait suivre le niveau d'eau de certaines stations hydrométriques situés près de Chilliwack afin de guider la gestion des activités de sa compagnie. Elle aimerait obtenir:\n",
    "* Les moyennes journalières de niveau d'eau pour une période de trois mois pour toutes les stations hydrométriques situées dans un rayon de 100 km de Chilliwack\n",
    "* Une vue graphique et tabulaire des moyennes journalières de niveau d'eau de cette période\n",
    "* Une carte interactive présentant les stations hydrométriques situées dans un rayon de 100 km de Chilliwack et la moyenne journalière de niveau d'eau la plus récente de ces stations pour la période temporelle sélectionnée\n",
    "\n",
    "Pour y arriver, la première étape est d'importer les modules Python nécessaires et de sélectionner les paramètres de requête désirés."
   ]
  },
  {
   "cell_type": "code",
   "execution_count": 1,
   "metadata": {},
   "outputs": [],
   "source": [
    "# Importation des modules\n",
    "from datetime import date\n",
    "import json\n",
    "\n",
    "from ipyleaflet import (\n",
    "    AwesomeIcon,\n",
    "    basemaps,\n",
    "    FullScreenControl,\n",
    "    Map,\n",
    "    Marker,\n",
    "    ScaleControl,\n",
    "    WidgetControl,\n",
    ")\n",
    "from ipywidgets import HTML, interact\n",
    "from osgeo import ogr, osr\n",
    "from owslib.ogcapi.features import Features\n",
    "import numpy as np\n",
    "import pandas as pd"
   ]
  },
  {
   "cell_type": "code",
   "execution_count": 2,
   "metadata": {},
   "outputs": [],
   "source": [
    "# Paramètres\n",
    "\n",
    "# Coordonnées de Chilliwack\n",
    "lat = 49.162676\n",
    "long = -121.958943\n",
    "\n",
    "# Taille de la zone tampon en kilomètres\n",
    "buffer = 100\n",
    "\n",
    "# Dates de début et de fin de la période temporelle pour\n",
    "# laquelle des données seront récupérées\n",
    "start_date = date(2018, 6, 1)\n",
    "end_date = date(2018, 8, 31)\n",
    "\n",
    "# Code ESPG de la projection désirée pour crééer la zone tampon\n",
    "# NAD83 / Statistiques Canada Lambert\n",
    "projection = 3347"
   ]
  },
  {
   "cell_type": "code",
   "execution_count": 3,
   "metadata": {},
   "outputs": [],
   "source": [
    "# Formattage des paramètres pour la requête OGC API - Features\n",
    "\n",
    "# Zone de délimitation légèrement plus grande que la taille de la zone tampon\n",
    "\n",
    "# La taille de la zone tampon doit être transformée en degrés afin d'obtenir\n",
    "# les coordonnées des coins de la zone de délimitation:\n",
    "# Latitude: 1 km ≈ 0.009° \n",
    "# Longitude (au 49e parallèle): 1 km ≈ 0.014°\n",
    "bbox = [\n",
    "    long - buffer * 0.02,\n",
    "    lat - buffer * 0.01,\n",
    "    long + buffer * 0.02,\n",
    "    lat + buffer * 0.01,\n",
    "]\n",
    "\n",
    "# Formattage de la période temporelle sélectionnée\n",
    "time_ = f\"{start_date}/{end_date}\""
   ]
  },
  {
   "cell_type": "markdown",
   "metadata": {},
   "source": [
    "Ensuite, les [données des stations hydrométriques](https://api.weather.gc.ca/collections/hydrometric-stations) disponibles sur GeoMet-OGC-API peuvent être récupérées à l'aide d'[OWSLib](https://geopython.github.io/OWSLib/). Comme l'utilisation d'une zone de délimitation à l'aide du paramètre ```bbox``` n'est pas aussi précise que l'utilisation d'une zone tampon ronde, [GDAL](https://gdal.org/api/index.html#python-api) peut être utilisé pour sélectionner uniquement les stations hydrométriques situées strictement dans un rayon de 100 km de Chilliwack."
   ]
  },
  {
   "cell_type": "code",
   "execution_count": 4,
   "metadata": {},
   "outputs": [],
   "source": [
    "# Récupération des données de stations hydrométriques\n",
    "oafeat = Features(\"https://api.weather.gc.ca/\")\n",
    "station_data = oafeat.collection_items(\n",
    "    \"hydrometric-stations\", bbox=bbox, STATUS_EN=\"Active\"\n",
    ")\n",
    "\n",
    "# Vérification des données récupérées\n",
    "if \"features\" in station_data:\n",
    "    station_data = json.dumps(station_data, indent=4)\n",
    "else:\n",
    "    raise ValueError(\n",
    "        \"Aucune station hydrométrique n'a été trouvée. \"\n",
    "        + \"Veuillez revérifier les coordonnées.\"\n",
    "    )"
   ]
  },
  {
   "cell_type": "code",
   "execution_count": 5,
   "metadata": {},
   "outputs": [],
   "source": [
    "# Liste des stations situées dans la zone tampon\n",
    "\n",
    "# Accéder à la couche de stations hydrométriques\n",
    "driver = ogr.GetDriverByName(\"GeoJSON\")\n",
    "data_source = driver.Open(station_data, 0)\n",
    "layer = data_source.GetLayer()\n",
    "\n",
    "# Identification du système de référence spatiale (SRS) d'entrée\n",
    "SRS_input = layer.GetSpatialRef()\n",
    "SR = osr.SpatialReference(str(SRS_input))\n",
    "epsg = SR.GetAuthorityCode(None)\n",
    "SRS_input.ImportFromEPSG(int(epsg))\n",
    "\n",
    "# Définition du SRS utilisé pour projeter les données\n",
    "SRS_projected = osr.SpatialReference()\n",
    "SRS_projected.ImportFromEPSG(projection)\n",
    "\n",
    "# Transformation du SRS d'entrée à la projection désirée\n",
    "transform = osr.CoordinateTransformation(SRS_input, SRS_projected)\n",
    "\n",
    "# Création de la zone tampon pour sélectionner les stations\n",
    "point = ogr.Geometry(ogr.wkbPoint)\n",
    "point.AddPoint(long, lat)\n",
    "point.Transform(transform)\n",
    "point_buffer = point.Buffer(buffer * 1000)  # La valeur doit être en mètres\n",
    "\n",
    "# Sélection des stations situées dans la zone tampon\n",
    "stations = []\n",
    "\n",
    "for feature in layer:\n",
    "    geom = feature.GetGeometryRef().Clone()\n",
    "    geom.Transform(transform)\n",
    "    if geom.Intersects(point_buffer):\n",
    "        stations.append(feature.STATION_NUMBER)\n",
    "\n",
    "# Générer une erreur si aucune station n'est trouvée\n",
    "if not stations:\n",
    "    raise ValueError(\n",
    "        f\"Aucune station hydrométrique n'est située dans un rayon de {buffer}\"\n",
    "        + \" km des coordonnées choisies. Veuillez vérifier les coordonnées.\"\n",
    "    )"
   ]
  },
  {
   "cell_type": "markdown",
   "metadata": {},
   "source": [
    "Une fois les stations hydrométriques situées dans un rayon de 100 km de Chilliwack identifiées, les données de niveau d'eau pour la période de trois mois peuvent êtres récupérées pour chaque station.\n",
    "\n",
    "Les moyennes journalières de niveau d'eau de la période de trois mois seront utilisées pour créer une trame de données pour chaque station à l'aide de [Pandas](https://pandas.pydata.org/). Pour faciliter la manipulation des données, l'ensemble des trames de données sera rassemblée dans un dictionnaire Python. Ces trames de données seront utilisées pour créer des graphiques et des tableaux interactifs affichant les données historiques de niveau d'eau ainsi qu'une carte interactive présentant les données les plus récentes pour la période temporelle sélectionnée.\n",
    "\n",
    "Les stations n'ayant aucune donnée de niveau d'eau disponible durant la période choisie seront retirées du jeu de données."
   ]
  },
  {
   "cell_type": "code",
   "execution_count": 6,
   "metadata": {},
   "outputs": [],
   "source": [
    "# Récupération des données hydrométriques pour chaque station\n",
    "\n",
    "# Dictionnaire qui contiendra une trame de données de niveau\n",
    "# d'eau pour chaque station\n",
    "hydrometric_data = {}\n",
    "\n",
    "# Liste des stations n'ayant aucune donnée de niveau d'eau \n",
    "stations_without_data = []\n",
    "\n",
    "# Récupération des données et création des trames de données\n",
    "for station in stations:\n",
    "\n",
    "    # Récupération des données de niveaux d'eau\n",
    "    hydro_data = oafeat.collection_items(\n",
    "        \"hydrometric-daily-mean\",\n",
    "        bbox=bbox,\n",
    "        time_=f\"{start_date}/{end_date}\",\n",
    "        STATION_NUMBER=station,\n",
    "    )\n",
    "    # Création des trames de données s'il y a \n",
    "    # des données pour la période choisie\n",
    "    if hydro_data[\"features\"]:\n",
    "        # Création d'un dictionnaire dans un format compatible avec Pandas\n",
    "        historical_data_format = [\n",
    "            {\n",
    "                \"LATITUDE\": el[\"geometry\"][\"coordinates\"][1],\n",
    "                \"LONGITUDE\": el[\"geometry\"][\"coordinates\"][0],\n",
    "                **el[\"properties\"],\n",
    "            }\n",
    "            for el in hydro_data[\"features\"]\n",
    "        ]\n",
    "        # Création d'une trame de données à partir du dictionnaire\n",
    "        historical_data_df = pd.DataFrame(\n",
    "            historical_data_format,\n",
    "            columns=[\n",
    "                \"STATION_NUMBER\",\n",
    "                \"STATION_NAME\",\n",
    "                \"DATE\",\n",
    "                \"LEVEL\",\n",
    "                \"LATITUDE\",\n",
    "                \"LONGITUDE\",\n",
    "            ],\n",
    "        )\n",
    "        historical_data_df = historical_data_df.fillna(value=np.nan)\n",
    "        # Ajout de la trame de données au dictionnaire hydrometric_data\n",
    "        if not historical_data_df[\"LEVEL\"].isnull().all():\n",
    "            # Retrait des lignes à la fin de la trame de données qui ne\n",
    "            # contiennent pas de données\n",
    "            while np.isnan(historical_data_df[\"LEVEL\"].iloc[-1]):\n",
    "                historical_data_df = historical_data_df.drop(\n",
    "                    historical_data_df.tail(1).index\n",
    "                )\n",
    "            # Création d'un index avec la date dans un format datetime\n",
    "            historical_data_df[\"DATE\"] = pd.to_datetime(\n",
    "                historical_data_df[\"DATE\"]\n",
    "            )\n",
    "            historical_data_df.set_index([\"DATE\"], inplace=True, drop=True)\n",
    "            historical_data_df.index = historical_data_df.index.date\n",
    "            # Ajout de la trame de données au dictionnaire\n",
    "            hydrometric_data[station] = historical_data_df\n",
    "        # Si toutes les données sont des NaN, la station sera retirée\n",
    "        # du jeu de données\n",
    "        else:\n",
    "            stations_without_data.append(station)\n",
    "    # Si aucune donnée n'est disponible pour la période ciblée, la station\n",
    "    # sera retirée du jeu de données\n",
    "    else:\n",
    "        stations_without_data.append(station)\n",
    "\n",
    "# Retrait des stations sans données de niveau d'eau de la liste des stations\n",
    "for station in stations_without_data:\n",
    "    stations.remove(station)\n",
    "\n",
    "# Générer une erreur si la liste de stations est vide\n",
    "if not stations:\n",
    "    raise ValueError(\n",
    "        \"Aucune données de niveau d'eau n'est disponible dans cette période\"\n",
    "        + f\" de {num_months} mois pour les stations sélectionnées.\"\n",
    "    )"
   ]
  },
  {
   "cell_type": "markdown",
   "metadata": {},
   "source": [
    "Maintenant que toutes les trames de données sont prêtes, les données peuvent être visualisées sous la forme d'un graphique. Pandas peut être utilisé pour générer des graphiques interactifs sur Jupyter Notebook à l'aide du [programme d'arrière plan Plotly](https://plotly.com/python/pandas-backend/). Un menu déroulant peut également être ajouté dans un Jupyter Notebook à l'aide de [ipywidgets](https://ipywidgets.readthedocs.io/en/stable/) pour sélectionner la station hydrométrique à afficher sur le graphique."
   ]
  },
  {
   "cell_type": "code",
   "execution_count": 7,
   "metadata": {},
   "outputs": [
    {
     "data": {
      "application/vnd.jupyter.widget-view+json": {
       "model_id": "2f53b265e8354394b05dd58f0f3a6275",
       "version_major": 2,
       "version_minor": 0
      },
      "text/plain": [
       "interactive(children=(Dropdown(description='station', options=('08GA010', '08GA030', '08GA077', '08GA079', '08…"
      ]
     },
     "metadata": {},
     "output_type": "display_data"
    }
   ],
   "source": [
    "# Création d'un graphique interactif avec Pandas et Plotly\n",
    "pd.options.plotting.backend = \"plotly\"\n",
    "\n",
    "\n",
    "# Fonction pour crééer le graphique de la station sélectionnée\n",
    "def choose_station(station):\n",
    "    # Création du graphique\n",
    "    fig = hydrometric_data[station][\"LEVEL\"].plot(\n",
    "        title=(\n",
    "            \"Niveaux d'eau de la station \"\n",
    "            + f\"{hydrometric_data[station]['STATION_NAME'][0]}\"\n",
    "            + f\" ({station})\"\n",
    "        ),\n",
    "        template=\"plotly_white\",\n",
    "        labels={\n",
    "            \"index\": \"Date\",\n",
    "            \"value\": \"Niveau d'eau (m)\",\n",
    "            \"variable\": \"Légende\"\n",
    "        },\n",
    "        color_discrete_sequence=[\"RoyalBlue\"],\n",
    "    )\n",
    "    # Modification des paramètres du graphique\n",
    "    fig.update_traces(\n",
    "        name=\"Moyenne journalière\",\n",
    "        mode=\"lines+markers\",\n",
    "        hovertemplate=None,\n",
    "        hoverinfo=\"x+name+y\",\n",
    "    )\n",
    "    fig.update_layout(\n",
    "        hovermode=\"x unified\",\n",
    "    )\n",
    "    fig.update_xaxes(tickformat=\"%Y-%m-%d\")\n",
    "    return fig\n",
    "\n",
    "\n",
    "# Création d'un widget de menu déroulant\n",
    "graph = interact(choose_station, station=stations)"
   ]
  },
  {
   "cell_type": "markdown",
   "metadata": {},
   "source": [
    "Un widget de menu déroulant similaire peut également être utilisé pour sélectionner la station hydrométrique à afficher dans le tableau interactif."
   ]
  },
  {
   "cell_type": "code",
   "execution_count": 8,
   "metadata": {
    "scrolled": false
   },
   "outputs": [
    {
     "data": {
      "application/vnd.jupyter.widget-view+json": {
       "model_id": "ba4232fa9989412787985013e76f3ce6",
       "version_major": 2,
       "version_minor": 0
      },
      "text/plain": [
       "interactive(children=(Dropdown(description='station', options=('08GA010', '08GA030', '08GA077', '08GA079', '08…"
      ]
     },
     "metadata": {},
     "output_type": "display_data"
    }
   ],
   "source": [
    "# Création du tableau interactif\n",
    "\n",
    "# Option pour afficher toutes les lignes du tableau\n",
    "pd.set_option(\"max_rows\", None)\n",
    "\n",
    "\n",
    "# Fonction pour afficher le tableau de la station sélectionnée\n",
    "def choose_station_table(station):\n",
    "    # Création d'un widget HTML pour ajouter un titre au tableau\n",
    "    table_title = HTML(\n",
    "        value=(\n",
    "            \"<h4>Niveaux d'eau de la station \"\n",
    "            + f\"{hydrometric_data[station]['STATION_NAME'][0]}\"\n",
    "            + f\" ({station})</h4>\"\n",
    "        )\n",
    "    )\n",
    "    # Sélection des colonnes désirées et modification de leur nom\n",
    "    displayed_df = hydrometric_data[station][[\"LEVEL\"]].rename(\n",
    "        columns={\n",
    "            \"LEVEL\": \"Moyenne journalière du niveau d'eau (m)\",\n",
    "        }\n",
    "    )\n",
    "    displayed_df.index = displayed_df.index.rename(\"Date\")\n",
    "    return display(table_title), display(displayed_df)\n",
    "\n",
    "\n",
    "# Création d'un widget de menu déroulant\n",
    "table = interact(choose_station_table, station=stations)"
   ]
  },
  {
   "cell_type": "markdown",
   "metadata": {},
   "source": [
    "Finalement, une carte interactive peut être créée avec [ipyleaflet](https://ipyleaflet.readthedocs.io/) pour afficher l'ensemble des stations hydrométriques situées dans un rayon de 100 km de Chilliwack ainsi que leur dernière moyenne journalière disponible pour la période de trois mois sélectionnée."
   ]
  },
  {
   "cell_type": "code",
   "execution_count": 9,
   "metadata": {
    "scrolled": false
   },
   "outputs": [
    {
     "data": {
      "application/vnd.jupyter.widget-view+json": {
       "model_id": "4f0e1a0b08af45ac885e8f954bbb60d0",
       "version_major": 2,
       "version_minor": 0
      },
      "text/plain": [
       "HTML(value=\"<h4>Moyenne journalière du niveau d'eau la plus récente pour la période se terminant le 2018-08-31…"
      ]
     },
     "metadata": {},
     "output_type": "display_data"
    },
    {
     "data": {
      "application/vnd.jupyter.widget-view+json": {
       "model_id": "3c5cb7726df840c698b4316ded79de00",
       "version_major": 2,
       "version_minor": 0
      },
      "text/plain": [
       "Map(center=[49.34332084655762, -121.958943], controls=(ZoomControl(options=['position', 'zoom_in_text', 'zoom_…"
      ]
     },
     "metadata": {},
     "output_type": "display_data"
    }
   ],
   "source": [
    "# Création d'une carte interactive\n",
    "\n",
    "# Latitude au centre des points de station (pour centrer la carte)\n",
    "latitudes = [hydrometric_data[station][\"LATITUDE\"][0] for station in stations]\n",
    "center_lat = (min(latitudes) + max(latitudes)) / 2\n",
    "\n",
    "# Paramètres\n",
    "center = [center_lat, long]\n",
    "zoom = 8\n",
    "\n",
    "# Carte\n",
    "m = Map(basemap=basemaps.CartoDB.Positron, center=center, zoom=zoom)\n",
    "\n",
    "# Ajout d'un titre\n",
    "display(HTML(\n",
    "        value=(\n",
    "            \"<h4>Moyenne journalière du niveau d'eau la plus récente pour \"\n",
    "            + f\"la période se terminant le {end_date}</h4>\"\n",
    "        )\n",
    "    )\n",
    ")\n",
    "\n",
    "# Ajout des informations à afficher au passage de la souris\n",
    "html = HTML(\"Passez votre souris sur les stations pour plus d'information\")\n",
    "html.layout.margin = \"0px 10px 10px 10px\"\n",
    "control = WidgetControl(widget=html, position=\"topright\", max_width=250)\n",
    "m.add_control(control)\n",
    "\n",
    "\n",
    "def get_callback(marker):\n",
    "    def callback(*args, **kwargs):\n",
    "        html.value = (\n",
    "            f\"<b>{marker.STATION_NAME}</b><br>\"\n",
    "            + f\"ID de la station: {marker.STATION_NUMBER}<br>\"\n",
    "            + f\"Date: {marker.name}<br>\"\n",
    "            + f\"Niveau d'eau: {round(marker.LEVEL, 2)} m\"\n",
    "        )\n",
    "\n",
    "    return callback\n",
    "\n",
    "\n",
    "# Ajout d'une barre d'échelle et d'un contrôle du zoom\n",
    "m.add_control(ScaleControl(position=\"bottomleft\"))\n",
    "m.add_control(FullScreenControl())\n",
    "\n",
    "# Ajout d'un marqueur à la carte pour chaque station hydrométrique\n",
    "for station in stations:\n",
    "    latest_data = hydrometric_data[station].iloc[-1]\n",
    "    icon = AwesomeIcon(name=\"tint\", marker_color=\"darkblue\")\n",
    "    station_marker = Marker(\n",
    "        icon=icon,\n",
    "        location=[latest_data.LATITUDE, latest_data.LONGITUDE],\n",
    "        draggable=False,\n",
    "    )\n",
    "    station_marker.on_mouseover(get_callback(latest_data))\n",
    "    m.add_layer(station_marker)\n",
    "\n",
    "# Affichage de la carte\n",
    "display(m)"
   ]
  },
  {
   "cell_type": "markdown",
   "metadata": {},
   "source": [
    "## Conclusion\n",
    "\n",
    "Cathy a maintenant un bon aperçu du niveau d'eau des cours d'eau et des étendues d'eau situées près de Chilliwack. Cette information lui sera utile dans la gestion des activitées de sa compagnie d'excursions en bateau et de sports nautiques. Suite à la lecture de ce cas d'utilisation, vous devriez être en mesure d'utiliser Python pour récupérer des données géospatiales à partir de GeoMet-OGC-API et d'afficher ces données dans différents formats interactifs (graphique, tableau et carte). Ce cas d'utilisation peu être adapté selon vos besoins en modifiant les paramètres ou les étapes de traitement des données."
   ]
  }
 ],
 "metadata": {
  "kernelspec": {
   "display_name": "Python 3",
   "language": "python",
   "name": "python3"
  },
  "language_info": {
   "codemirror_mode": {
    "name": "ipython",
    "version": 3
   },
   "file_extension": ".py",
   "mimetype": "text/x-python",
   "name": "python",
   "nbconvert_exporter": "python",
   "pygments_lexer": "ipython3",
   "version": "3.7.4"
  }
 },
 "nbformat": 4,
 "nbformat_minor": 4
}

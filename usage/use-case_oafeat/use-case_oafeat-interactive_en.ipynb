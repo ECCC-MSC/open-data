{
 "cells": [
  {
   "cell_type": "markdown",
   "metadata": {},
   "source": [
    "[En français](../use-case_oafeat-interactive_fr/)\n",
    "\n",
    "![ECCC logo](https://eccc-msc.github.io/open-data/img_eccc-logo.png)  \n",
    "\n",
    "[TOC](../../../readme_en/) > [Usage overview](../../readme_en/) > OGC API - Features requests in Python (interactive version)\n",
    "\n",
    "# Use case: Retrieving and displaying hydrometric data\n",
    "\n",
    "## Introduction\n",
    "\n",
    "Hydrometric data from the Meteorological Service of Canada (MSC), Environment and Climate Change Canada (ECCC) can be easily accessed via [GeoMet-OGC-API](https://api.weather.gc.ca/). The [OGC API - Features](https://eccc-msc.github.io/open-data/msc-geomet/web-services_en/#ogc-api-features) web services available in GeoMet-OGC-API offer the capability to query vector geospatial data and retrieve it in a GeoJSON format. The GeoJSON output file can then be used for display or further data processing. This use case will show you how you can:\n",
    "* Query and retrieve vector geospatial data from GeoMet-OGC-API with [Python](https://www.python.org/)\n",
    "* Display time series data in graphic and tabular format\n",
    "* Create an interactive map to display geospatial data\n",
    "\n",
    "This use case comes in two different versions. This version is conceived to be used in a Jupyter Notebook and includes more interactive features like dropdown menus to choose the value of the variables, an interactive plot with a variety of controls and an interactive map based on Leaflet. As some libraries used in this version like ipywidgets are not conceived to be used outside of a Jupyter Notebook, the [other version of this use case](../use-case_oafeat-script_en/) presents a script that is designed to be run in a terminal or an IDE.\n",
    "\n",
    "To run the entire notebook, click on the ⏩️ symbol or select the Cell -> Run All option in the menu bar.\n",
    "\n",
    "[![badge](https://img.shields.io/badge/Interactive%20version-binder-F5A252.svg?logo=data:image/png;base64,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)](https://mybinder.org/v2/gh/ECCC-MSC/open-data.git/master?labpath=docs%2Fusage%2Fuse-case_oafeat%2Fuse-case_oafeat-script_en.ipynb)\n",
    "\n",
    "## Creation of a tool to monitor water levels\n",
    "\n",
    "Cathy runs a boat tours and water sports company in Chilliwack, British-Columbia. She would like to track the water levels of a few hydrometric stations near her city to guide the management of the company's activities. She would like to have:\n",
    "* The daily mean water levels of a three months period for all hydrometric stations located within 100 km of the city of Chilliwack\n",
    "* Graphic and tabular views that present the daily mean water levels of that three months period\n",
    "* An interactive map that displays the hydrometric stations located within 100 km of the city of Chilliwack and the most recent daily mean water level of these stations in the determined time period\n",
    "\n",
    "To achieve this, the first step is to import the necessary Python modules and to select the desired request parameters."
   ]
  },
  {
   "cell_type": "code",
   "execution_count": 1,
   "metadata": {},
   "outputs": [],
   "source": [
    "# Modules importation\n",
    "from datetime import date\n",
    "import json\n",
    "\n",
    "from ipyleaflet import (\n",
    "    AwesomeIcon,\n",
    "    basemaps,\n",
    "    FullScreenControl,\n",
    "    Map,\n",
    "    Marker,\n",
    "    ScaleControl,\n",
    "    WidgetControl,\n",
    ")\n",
    "from ipywidgets import HTML, interact\n",
    "from osgeo import ogr, osr\n",
    "from owslib.ogcapi.features import Features\n",
    "import numpy as np\n",
    "import pandas as pd"
   ]
  },
  {
   "cell_type": "code",
   "execution_count": 2,
   "metadata": {},
   "outputs": [],
   "source": [
    "# Parameters\n",
    "\n",
    "# Coordinates of Chilliwack\n",
    "lat = 49.162676\n",
    "long = -121.958943\n",
    "\n",
    "# Buffer size in kilometres\n",
    "buffer = 100\n",
    "\n",
    "# Start and end of the time period for which the data will be retrieved\n",
    "start_date = date(2018, 6, 1)\n",
    "end_date = date(2018, 8, 31)\n",
    "\n",
    "# ESPG code of the preferred projection to create the buffer\n",
    "# NAD83 / Statistics Canada Lambert\n",
    "projection = 3347"
   ]
  },
  {
   "cell_type": "code",
   "execution_count": 3,
   "metadata": {},
   "outputs": [],
   "source": [
    "# Parameters formatting for the OGC API - Features request\n",
    "\n",
    "# Bounding box a little bigger than buffer size\n",
    "\n",
    "# The buffer needs to be transformed in degrees to get\n",
    "# the coordinates of the corners of the bounding box:\n",
    "# Latitude: 1 km ≈ 0.009° \n",
    "# Longitude (at the 49th parallel): 1 km ≈ 0.014°\n",
    "bbox = [\n",
    "    long - buffer * 0.02,\n",
    "    lat - buffer * 0.01,\n",
    "    long + buffer * 0.02,\n",
    "    lat + buffer * 0.01,\n",
    "]\n",
    "\n",
    "# Formatting of the selected time period\n",
    "time_ = f\"{start_date}/{end_date}\""
   ]
  },
  {
   "cell_type": "markdown",
   "metadata": {},
   "source": [
    "Then, the [hydrometric monitoring stations data](https://api.weather.gc.ca/collections/hydrometric-stations) available on GeoMet-OGC-API can be retrieved with the [OWSLib package](https://geopython.github.io/OWSLib/). As the bounding box parameter is not as precise as a round buffer, [GDAL](https://gdal.org/api/index.html#python-api) can be used to select only the hydrometric stations that are strictly inside a 100 km radius from Chilliwack."
   ]
  },
  {
   "cell_type": "code",
   "execution_count": 4,
   "metadata": {},
   "outputs": [],
   "source": [
    "# Retrieval of hydrometric stations data\n",
    "oafeat = Features(\"https://api.weather.gc.ca/\")\n",
    "station_data = oafeat.collection_items(\n",
    "    \"hydrometric-stations\", bbox=bbox, STATUS_EN=\"Active\"\n",
    ")\n",
    "\n",
    "# Verification of the retrieved data\n",
    "if \"features\" in station_data:\n",
    "    station_data = json.dumps(station_data, indent=4)\n",
    "else:\n",
    "    raise ValueError(\n",
    "        \"No hydrometric stations were found. Please verify the coordinates.\"\n",
    "    )"
   ]
  },
  {
   "cell_type": "code",
   "execution_count": 5,
   "metadata": {},
   "outputs": [],
   "source": [
    "# List of stations located inside the buffer zone\n",
    "\n",
    "# Accessing the hydrometric stations layer\n",
    "driver = ogr.GetDriverByName(\"GeoJSON\")\n",
    "data_source = driver.Open(station_data, 0)\n",
    "layer = data_source.GetLayer()\n",
    "\n",
    "# Identification of the input spatial reference system (SRS)\n",
    "SRS_input = layer.GetSpatialRef()\n",
    "SR = osr.SpatialReference(str(SRS_input))\n",
    "epsg = SR.GetAuthorityCode(None)\n",
    "SRS_input.ImportFromEPSG(int(epsg))\n",
    "\n",
    "# Definition of the SRS used to project data\n",
    "SRS_projected = osr.SpatialReference()\n",
    "SRS_projected.ImportFromEPSG(projection)\n",
    "\n",
    "# Transformation from input SRS to the prefered projection\n",
    "transform = osr.CoordinateTransformation(SRS_input, SRS_projected)\n",
    "\n",
    "# Creation of a buffer to select stations\n",
    "point = ogr.Geometry(ogr.wkbPoint)\n",
    "point.AddPoint(long, lat)\n",
    "point.Transform(transform)\n",
    "point_buffer = point.Buffer(buffer * 1000)  # The value must be in meters\n",
    "\n",
    "# Selection of the stations in the buffer zone\n",
    "stations = []\n",
    "\n",
    "for feature in layer:\n",
    "    geom = feature.GetGeometryRef().Clone()\n",
    "    geom.Transform(transform)\n",
    "    if geom.Intersects(point_buffer):\n",
    "        stations.append(feature.STATION_NUMBER)\n",
    "\n",
    "# Raising an error if no station were found\n",
    "if not stations:\n",
    "    raise ValueError(\n",
    "        f\"There are no hydrometric stations within {buffer} km\"\n",
    "        + \" of the chosen coordinates. Please verify the coordinates.\"\n",
    "    )"
   ]
  },
  {
   "cell_type": "markdown",
   "metadata": {},
   "source": [
    "Once the hydrometric monitoring stations located within 100 km of Chilliwack are identified, the water level data for a three months period can be retrieved for each station. \n",
    "\n",
    "The daily mean water levels of the three months period will be used to create a data frame for each station with [Pandas](https://pandas.pydata.org/). To facilitate the data manipulations, all the data frames will be gathered in a Python dictionary. These data frames will be used to create interactive graphic and tabular views of the historical daily mean water levels of the hydrometric monitoring stations located within 100 km of Chilliwack. They will also be used to display the hydrometric stations on a map with their most recent daily mean water level data for the time period.\n",
    "\n",
    "Stations that do not have water level data available in the desired time period will be removed from the dataset."
   ]
  },
  {
   "cell_type": "code",
   "execution_count": 6,
   "metadata": {},
   "outputs": [],
   "source": [
    "# Retrieval of hydrometric data for each station\n",
    "\n",
    "# Dictionary that will contain a data frame for each station with\n",
    "# the historical daily mean water levels for the time period\n",
    "hydrometric_data = {}\n",
    "\n",
    "# List of stations with no water level data\n",
    "stations_without_data = []\n",
    "\n",
    "# Data retrieval and creation of the data frames\n",
    "for station in stations:\n",
    "\n",
    "    # Retrieval of water level data\n",
    "    hydro_data = oafeat.collection_items(\n",
    "        \"hydrometric-daily-mean\",\n",
    "        bbox=bbox,\n",
    "        time_=f\"{start_date}/{end_date}\",\n",
    "        STATION_NUMBER=station,\n",
    "    )\n",
    "    # Creation of a data frame if there is data for the chosen time period\n",
    "    if hydro_data[\"features\"]:\n",
    "        # Creation of a dictionary in a format compatible with Pandas\n",
    "        historical_data_format = [\n",
    "            {\n",
    "                \"LATITUDE\": el[\"geometry\"][\"coordinates\"][1],\n",
    "                \"LONGITUDE\": el[\"geometry\"][\"coordinates\"][0],\n",
    "                **el[\"properties\"],\n",
    "            }\n",
    "            for el in hydro_data[\"features\"]\n",
    "        ]\n",
    "        # Creation of the data frame\n",
    "        historical_data_df = pd.DataFrame(\n",
    "            historical_data_format,\n",
    "            columns=[\n",
    "                \"STATION_NUMBER\",\n",
    "                \"STATION_NAME\",\n",
    "                \"DATE\",\n",
    "                \"LEVEL\",\n",
    "                \"LATITUDE\",\n",
    "                \"LONGITUDE\",\n",
    "            ],\n",
    "        )\n",
    "        historical_data_df = historical_data_df.fillna(value=np.nan)\n",
    "        # Adding the data frame to the hydrometric data dictionary\n",
    "        if not historical_data_df[\"LEVEL\"].isnull().all():\n",
    "            # Removing any rows without water level data at the\n",
    "            # end of the data frame\n",
    "            while np.isnan(historical_data_df[\"LEVEL\"].iloc[-1]):\n",
    "                historical_data_df = historical_data_df.drop(\n",
    "                    historical_data_df.tail(1).index\n",
    "                )\n",
    "            # Creating an index with the date in a datetime format\n",
    "            historical_data_df[\"DATE\"] = pd.to_datetime(\n",
    "                historical_data_df[\"DATE\"]\n",
    "            )\n",
    "            historical_data_df.set_index([\"DATE\"], inplace=True, drop=True)\n",
    "            historical_data_df.index = historical_data_df.index.date\n",
    "            # Adding the data frame to the dictionary\n",
    "            hydrometric_data[station] = historical_data_df\n",
    "        # If all the data is NaN, the station will be removed from the dataset\n",
    "        else:\n",
    "            stations_without_data.append(station)\n",
    "    # If there is no data for the chosen time period, the station\n",
    "    # will be removed from the dataset\n",
    "    else:\n",
    "        stations_without_data.append(station)\n",
    "\n",
    "# Removing hydrometric stations without water level data from the station list\n",
    "for station in stations_without_data:\n",
    "    stations.remove(station)\n",
    "\n",
    "# Raising an error if no station is left in the list\n",
    "if not stations:\n",
    "    raise ValueError(\n",
    "        f\"No water level data is available for this {num_months}\"\n",
    "        + \" months period for the selected hydrometric stations.\"\n",
    "    )"
   ]
  },
  {
   "cell_type": "markdown",
   "metadata": {},
   "source": [
    "Now that all the data frames are ready, the data can be visualized in a graphic view. Pandas can be used to generate interactive plots in a Jupyter Notebook with the [Plotly backend](https://plotly.com/python/pandas-backend/). A dropdown menu can be added in a Jupyter Notebook with [ipywidgets](https://ipywidgets.readthedocs.io/en/stable/) to select the desired hydrometric monitoring station."
   ]
  },
  {
   "cell_type": "code",
   "execution_count": 7,
   "metadata": {},
   "outputs": [
    {
     "data": {
      "application/vnd.jupyter.widget-view+json": {
       "model_id": "2fe322408c3143c0b851f1f5db8c324b",
       "version_major": 2,
       "version_minor": 0
      },
      "text/plain": [
       "interactive(children=(Dropdown(description='station', options=('08GA010', '08GA030', '08GA077', '08GA079', '08…"
      ]
     },
     "metadata": {},
     "output_type": "display_data"
    }
   ],
   "source": [
    "# Creation of an interactive plot with Pandas and Plotly\n",
    "pd.options.plotting.backend = \"plotly\"\n",
    "\n",
    "\n",
    "# Function to show the plot of the chosen hydrometric station\n",
    "def choose_station(station):\n",
    "    # Creation of the plot\n",
    "    fig = hydrometric_data[station][\"LEVEL\"].plot(\n",
    "        title=(\n",
    "            \"Water levels at station \"\n",
    "            + f\"{hydrometric_data[station]['STATION_NAME'][0]}\"\n",
    "            + f\" ({station})\"\n",
    "        ),\n",
    "        template=\"plotly_white\",\n",
    "        labels={\n",
    "            \"index\": \"Date\",\n",
    "            \"value\": \"Water level (m)\",\n",
    "            \"variable\": \"Legend\"\n",
    "        },\n",
    "        color_discrete_sequence=[\"RoyalBlue\"],\n",
    "    )\n",
    "    # Updating plot parameters\n",
    "    fig.update_traces(\n",
    "        name=\"Daily mean\",\n",
    "        mode=\"lines+markers\",\n",
    "        hovertemplate=None,\n",
    "        hoverinfo=\"x+name+y\",\n",
    "    )\n",
    "    fig.update_layout(\n",
    "        hovermode=\"x unified\",\n",
    "    )\n",
    "    return fig\n",
    "\n",
    "\n",
    "# Creation of the dropdown menu widget\n",
    "graph = interact(choose_station, station=stations)"
   ]
  },
  {
   "cell_type": "markdown",
   "metadata": {},
   "source": [
    "A similar dropdown widget can be used to select which hydrometric monitoring station data to show in the interactive data table."
   ]
  },
  {
   "cell_type": "code",
   "execution_count": 8,
   "metadata": {
    "scrolled": false
   },
   "outputs": [
    {
     "data": {
      "application/vnd.jupyter.widget-view+json": {
       "model_id": "d4ccb4f4bddf487ebce83db49a48cc11",
       "version_major": 2,
       "version_minor": 0
      },
      "text/plain": [
       "interactive(children=(Dropdown(description='station', options=('08GA010', '08GA030', '08GA077', '08GA079', '08…"
      ]
     },
     "metadata": {},
     "output_type": "display_data"
    }
   ],
   "source": [
    "# Creation of the table\n",
    "\n",
    "# Option to show all rows\n",
    "pd.set_option(\"max_rows\", None)\n",
    "\n",
    "\n",
    "# Function to show the table of the chosen hydrometric station\n",
    "def choose_station_table(station):\n",
    "    # Creation of a HTML widget to add a title to the table\n",
    "    table_title = HTML(\n",
    "        value=(\n",
    "            \"<h4>Water levels at station \"\n",
    "            + f\"{hydrometric_data[station]['STATION_NAME'][0]}\"\n",
    "            + f\" ({station})</h4>\"\n",
    "        )\n",
    "    )\n",
    "    # Selecting the desired columns and changing the columns names\n",
    "    displayed_df = hydrometric_data[station][[\"LEVEL\"]].rename(\n",
    "        columns={\n",
    "            \"LEVEL\": \"Water level daily mean (m)\",\n",
    "        }\n",
    "    )\n",
    "    displayed_df.index = displayed_df.index.rename(\"Date\")\n",
    "    return display(table_title), display(displayed_df)\n",
    "\n",
    "\n",
    "# Creation of the dropdown menu widget\n",
    "table = interact(choose_station_table, station=stations)"
   ]
  },
  {
   "cell_type": "markdown",
   "metadata": {},
   "source": [
    "Finally, an interactive map can be created with [ipyleaflet](https://ipyleaflet.readthedocs.io/) to display the most recent water level daily mean of all the hydrometric monitoring stations located within 100 km of Chilliwack for the selected three months period."
   ]
  },
  {
   "cell_type": "code",
   "execution_count": 9,
   "metadata": {
    "scrolled": false
   },
   "outputs": [
    {
     "data": {
      "application/vnd.jupyter.widget-view+json": {
       "model_id": "e1813c58cf9f426d95fbc2af8fca1db3",
       "version_major": 2,
       "version_minor": 0
      },
      "text/plain": [
       "HTML(value='<h4>Most recent daily mean water level for the time period ending the 2018-08-31</h4>')"
      ]
     },
     "metadata": {},
     "output_type": "display_data"
    },
    {
     "data": {
      "application/vnd.jupyter.widget-view+json": {
       "model_id": "97b2e845f2b348289181a50c9254147f",
       "version_major": 2,
       "version_minor": 0
      },
      "text/plain": [
       "Map(center=[49.34332084655762, -121.958943], controls=(ZoomControl(options=['position', 'zoom_in_text', 'zoom_…"
      ]
     },
     "metadata": {},
     "output_type": "display_data"
    }
   ],
   "source": [
    "# Creation of the interactive map\n",
    "\n",
    "# Latitude at the center of the station points (to center map)\n",
    "latitudes = [hydrometric_data[station][\"LATITUDE\"][0] for station in stations]\n",
    "center_lat = (min(latitudes) + max(latitudes)) / 2\n",
    "\n",
    "# Parameters\n",
    "center = [center_lat, long]\n",
    "zoom = 8\n",
    "\n",
    "# Map\n",
    "m = Map(basemap=basemaps.CartoDB.Positron, center=center, zoom=zoom)\n",
    "\n",
    "# Adding title\n",
    "display(HTML(\n",
    "        value=(\n",
    "            \"<h4>Most recent daily mean water level for the \"\n",
    "            + f\"time period ending the {end_date}</h4>\"\n",
    "        )\n",
    "    )\n",
    ")\n",
    "\n",
    "# Adding hover information\n",
    "html = HTML(\"Hover over Hydrometric Stations\")\n",
    "html.layout.margin = \"0px 10px 10px 10px\"\n",
    "control = WidgetControl(widget=html, position=\"topright\", max_width=250)\n",
    "m.add_control(control)\n",
    "\n",
    "\n",
    "def get_callback(marker):\n",
    "    def callback(*args, **kwargs):\n",
    "        html.value = (\n",
    "            f\"<b>{marker.STATION_NAME}</b><br>\"\n",
    "            + f\"Station ID: {marker.STATION_NUMBER}<br>\"\n",
    "            + f\"Date: {marker.name}<br>\"\n",
    "            + f\"Water level: {round(marker.LEVEL, 2)} m\"\n",
    "        )\n",
    "\n",
    "    return callback\n",
    "\n",
    "\n",
    "# Adding scale and full screen control\n",
    "m.add_control(ScaleControl(position=\"bottomleft\"))\n",
    "m.add_control(FullScreenControl())\n",
    "\n",
    "# Adding a marker to the map for each hydrometric station\n",
    "for station in stations:\n",
    "    latest_data = hydrometric_data[station].iloc[-1]\n",
    "    icon = AwesomeIcon(name=\"tint\", marker_color=\"darkblue\")\n",
    "    station_marker = Marker(\n",
    "        icon=icon,\n",
    "        location=[latest_data.LATITUDE, latest_data.LONGITUDE],\n",
    "        draggable=False,\n",
    "    )\n",
    "    station_marker.on_mouseover(get_callback(latest_data))\n",
    "    m.add_layer(station_marker)\n",
    "\n",
    "# Display the map\n",
    "display(m)"
   ]
  },
  {
   "cell_type": "markdown",
   "metadata": {},
   "source": [
    "## Conclusion\n",
    "\n",
    "Cathy has now a good overview of the water levels of the rivers and lakes near her. This information will help her plan her boat tours and water sports company activities. After completing this use case, you should be able to use Python to retrieve and process geospatial data from GeoMet-OGC-API and to display data in different interactive formats (plot, table and map). This use case can be adapted to fit your needs by changing the parameters or modifying the data processing steps."
   ]
  }
 ],
 "metadata": {
  "kernelspec": {
   "display_name": "Python 3",
   "language": "python",
   "name": "python3"
  },
  "language_info": {
   "codemirror_mode": {
    "name": "ipython",
    "version": 3
   },
   "file_extension": ".py",
   "mimetype": "text/x-python",
   "name": "python",
   "nbconvert_exporter": "python",
   "pygments_lexer": "ipython3",
   "version": "3.7.4"
  }
 },
 "nbformat": 4,
 "nbformat_minor": 4
}
